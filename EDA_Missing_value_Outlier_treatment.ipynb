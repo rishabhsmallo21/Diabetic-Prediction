{
  "cells": [
    {
      "cell_type": "markdown",
      "id": "7bc2e73d",
      "metadata": {
        "id": "7bc2e73d"
      },
      "source": [
        "# Data Wrangling/EDA/Feature Engineering"
      ]
    },
    {
      "cell_type": "markdown",
      "id": "3ae6694c",
      "metadata": {
        "id": "3ae6694c"
      },
      "source": [
        "Missing value Traetment\n",
        "\n",
        "Scaling Technique\n",
        "\n",
        "Outlier Treatment\n",
        "\n",
        "Encoding Technique"
      ]
    },
    {
      "cell_type": "code",
      "execution_count": null,
      "id": "df9dfa6e",
      "metadata": {
        "id": "df9dfa6e"
      },
      "outputs": [
        {
          "ename": "",
          "evalue": "",
          "output_type": "error",
          "traceback": [
            "\u001b[1;31mRunning cells with 'venv (Python 3.7.0)' requires the ipykernel package.\n",
            "\u001b[1;31mRun the following command to install 'ipykernel' into the Python environment. \n",
            "\u001b[1;31mCommand: 'conda install -p c:\\Users\\Rishabh\\Desktop\\College Practicals\\Sem-8\\IBM training\\Machine Learning End to End project\\Diabetic-Prediction\\venv ipykernel --update-deps --force-reinstall'"
          ]
        }
      ],
      "source": [
        "import pandas as pd\n",
        "import numpy as np\n",
        "import seaborn as sns\n",
        "import matplotlib.pyplot as plt"
      ]
    },
    {
      "cell_type": "code",
      "execution_count": null,
      "id": "bqjLz-hbmGuV",
      "metadata": {
        "colab": {
          "base_uri": "https://localhost:8080/",
          "height": 177
        },
        "id": "bqjLz-hbmGuV",
        "outputId": "27f7f40c-c76e-4185-d789-65dfaa85850c"
      },
      "outputs": [],
      "source": [
        "from google.colab import files\n",
        "\n",
        "# This will open a file chooser dialog to upload the dataset\n",
        "uploaded = files.upload()"
      ]
    },
    {
      "cell_type": "code",
      "execution_count": 4,
      "id": "7c5f8c02",
      "metadata": {
        "id": "7c5f8c02"
      },
      "outputs": [],
      "source": [
        "data=pd.read_csv(\"k_circle_sales.csv\")"
      ]
    },
    {
      "cell_type": "code",
      "execution_count": null,
      "id": "6fb8d485",
      "metadata": {
        "colab": {
          "base_uri": "https://localhost:8080/",
          "height": 313
        },
        "id": "6fb8d485",
        "outputId": "c5453f95-a25d-47d3-c5fc-27ea3eb516ed"
      },
      "outputs": [],
      "source": [
        "data.head()"
      ]
    },
    {
      "cell_type": "code",
      "execution_count": null,
      "id": "ec94485f",
      "metadata": {
        "colab": {
          "base_uri": "https://localhost:8080/"
        },
        "id": "ec94485f",
        "outputId": "6dba6b18-0d37-4711-a7e8-9d6bf2733721"
      },
      "outputs": [],
      "source": [
        "data.shape"
      ]
    },
    {
      "cell_type": "code",
      "execution_count": null,
      "id": "88fe6805",
      "metadata": {
        "colab": {
          "base_uri": "https://localhost:8080/",
          "height": 491
        },
        "id": "88fe6805",
        "outputId": "eda0bddb-c1a7-4d68-e3cf-1b80b63c334d"
      },
      "outputs": [],
      "source": [
        "# Missing value treatment\n",
        "\n",
        "data.isnull().sum()"
      ]
    },
    {
      "cell_type": "code",
      "execution_count": null,
      "id": "1f2ae82a",
      "metadata": {
        "colab": {
          "base_uri": "https://localhost:8080/",
          "height": 491
        },
        "id": "1f2ae82a",
        "outputId": "6ac9fadd-9df5-44d3-e6af-a04109e71325"
      },
      "outputs": [],
      "source": [
        "data.dtypes"
      ]
    },
    {
      "cell_type": "code",
      "execution_count": 9,
      "id": "a388958b",
      "metadata": {
        "id": "a388958b"
      },
      "outputs": [],
      "source": [
        "#drop the missing data\n",
        "# fill the fixed value\n",
        "# fill with mean,median,mode value\n",
        "# based on grouping"
      ]
    },
    {
      "cell_type": "code",
      "execution_count": 10,
      "id": "797a14dc",
      "metadata": {
        "id": "797a14dc"
      },
      "outputs": [],
      "source": [
        "data1=data.copy()\n",
        "data1=data.dropna()"
      ]
    },
    {
      "cell_type": "code",
      "execution_count": null,
      "id": "637f8015",
      "metadata": {
        "colab": {
          "base_uri": "https://localhost:8080/"
        },
        "id": "637f8015",
        "outputId": "0152c337-c847-4fe1-f385-4b6019a8c927"
      },
      "outputs": [],
      "source": [
        "len(data1)"
      ]
    },
    {
      "cell_type": "code",
      "execution_count": null,
      "id": "9d419792",
      "metadata": {
        "colab": {
          "base_uri": "https://localhost:8080/"
        },
        "id": "9d419792",
        "outputId": "18efdb3d-fa94-4a95-9336-afc50ddc3a1b"
      },
      "outputs": [],
      "source": [
        "print(\"Percentage data loss\",(len(data)-len(data1))/(len(data))*100)"
      ]
    },
    {
      "cell_type": "code",
      "execution_count": 13,
      "id": "b60e9007",
      "metadata": {
        "id": "b60e9007"
      },
      "outputs": [],
      "source": [
        "data2=data.copy()\n",
        "data2=data.dropna(subset=[\"Item_Weight\"])"
      ]
    },
    {
      "cell_type": "code",
      "execution_count": null,
      "id": "65dfa586",
      "metadata": {
        "colab": {
          "base_uri": "https://localhost:8080/"
        },
        "id": "65dfa586",
        "outputId": "583712e2-2142-4b37-8ee0-148b07e711d9"
      },
      "outputs": [],
      "source": [
        "len(data2)"
      ]
    },
    {
      "cell_type": "code",
      "execution_count": 15,
      "id": "71620cea",
      "metadata": {
        "id": "71620cea"
      },
      "outputs": [],
      "source": [
        "# Imputaion technique"
      ]
    },
    {
      "cell_type": "code",
      "execution_count": 16,
      "id": "82a7bf12",
      "metadata": {
        "id": "82a7bf12"
      },
      "outputs": [],
      "source": [
        "data3=data.copy()"
      ]
    },
    {
      "cell_type": "code",
      "execution_count": null,
      "id": "f49ff8f2",
      "metadata": {
        "colab": {
          "base_uri": "https://localhost:8080/",
          "height": 491
        },
        "id": "f49ff8f2",
        "outputId": "10021ac8-6558-4cd7-d198-f2682fc97837"
      },
      "outputs": [],
      "source": [
        "data3.isnull().sum()"
      ]
    },
    {
      "cell_type": "code",
      "execution_count": null,
      "id": "c7799d2b",
      "metadata": {
        "colab": {
          "base_uri": "https://localhost:8080/"
        },
        "id": "c7799d2b",
        "outputId": "416f4d2c-fd12-4d8a-d190-6f99f64fb01f"
      },
      "outputs": [],
      "source": [
        "# numerical analysis\n",
        "data3[\"Item_Weight\"].skew()"
      ]
    },
    {
      "cell_type": "code",
      "execution_count": null,
      "id": "8d12bb76",
      "metadata": {
        "colab": {
          "base_uri": "https://localhost:8080/",
          "height": 452
        },
        "id": "8d12bb76",
        "outputId": "69414418-ba41-4d08-8c41-0b7c96688d1f"
      },
      "outputs": [],
      "source": [
        "data3[\"Item_Weight\"].plot(kind=\"kde\")"
      ]
    },
    {
      "cell_type": "code",
      "execution_count": 20,
      "id": "b0208e05",
      "metadata": {
        "id": "b0208e05"
      },
      "outputs": [],
      "source": [
        "# fill the missing value with fixed value\n",
        "data3[\"Item_Weight\"]=data3[\"Item_Weight\"].fillna(75)"
      ]
    },
    {
      "cell_type": "code",
      "execution_count": null,
      "id": "d0438c6e",
      "metadata": {
        "colab": {
          "base_uri": "https://localhost:8080/",
          "height": 491
        },
        "id": "d0438c6e",
        "outputId": "4bb3c47c-b07d-41b5-e724-94e855940666"
      },
      "outputs": [],
      "source": [
        "data3.isnull().sum()"
      ]
    },
    {
      "cell_type": "code",
      "execution_count": null,
      "id": "11e73190",
      "metadata": {
        "colab": {
          "base_uri": "https://localhost:8080/",
          "height": 447
        },
        "id": "11e73190",
        "outputId": "cd067626-d7b1-44ed-feba-038eb0711292"
      },
      "outputs": [],
      "source": [
        "data3[\"Item_Weight\"].plot(kind=\"kde\")"
      ]
    },
    {
      "cell_type": "code",
      "execution_count": null,
      "id": "bdb1b5d4",
      "metadata": {
        "colab": {
          "base_uri": "https://localhost:8080/"
        },
        "id": "bdb1b5d4",
        "outputId": "0e77e4b5-bcb5-4483-8b8b-a13c6e707d88"
      },
      "outputs": [],
      "source": [
        "# fill the missing value with mean or median\n",
        "data4=data.copy()\n",
        "data4[\"Item_Weight\"].fillna(data4[\"Item_Weight\"].mean(),inplace=True)"
      ]
    },
    {
      "cell_type": "code",
      "execution_count": null,
      "id": "c43166fc",
      "metadata": {
        "colab": {
          "base_uri": "https://localhost:8080/",
          "height": 491
        },
        "id": "c43166fc",
        "outputId": "4330dae5-bb8e-4072-fa31-187cad65849b"
      },
      "outputs": [],
      "source": [
        "data4.isnull().sum()"
      ]
    },
    {
      "cell_type": "code",
      "execution_count": null,
      "id": "491afea1",
      "metadata": {
        "colab": {
          "base_uri": "https://localhost:8080/",
          "height": 447
        },
        "id": "491afea1",
        "outputId": "52767e2e-d670-405a-dd73-157240d8f572"
      },
      "outputs": [],
      "source": [
        "data4[\"Item_Weight\"].plot(kind=\"kde\")"
      ]
    },
    {
      "cell_type": "code",
      "execution_count": null,
      "id": "2e65a5a0",
      "metadata": {
        "colab": {
          "base_uri": "https://localhost:8080/"
        },
        "id": "2e65a5a0",
        "outputId": "c8fa6efa-e99c-40b5-e3fe-ca4feb161aff"
      },
      "outputs": [],
      "source": [
        "data[\"Item_Weight\"].mean()"
      ]
    },
    {
      "cell_type": "code",
      "execution_count": null,
      "id": "28e871ab",
      "metadata": {
        "colab": {
          "base_uri": "https://localhost:8080/",
          "height": 335
        },
        "id": "28e871ab",
        "outputId": "775b8543-8840-4372-ef45-baa3b8235a72"
      },
      "outputs": [],
      "source": [
        "data[\"Item_Weight\"].describe()"
      ]
    },
    {
      "cell_type": "code",
      "execution_count": 28,
      "id": "82e3b8c5",
      "metadata": {
        "id": "82e3b8c5"
      },
      "outputs": [],
      "source": [
        "data5=data.copy()\n",
        "ind=data5[data5[\"Item_Weight\"]==0].index"
      ]
    },
    {
      "cell_type": "code",
      "execution_count": null,
      "id": "b37cb987",
      "metadata": {
        "colab": {
          "base_uri": "https://localhost:8080/"
        },
        "id": "b37cb987",
        "outputId": "72eccacb-e7c4-4809-f9fc-4f558f6198c3"
      },
      "outputs": [],
      "source": [
        "ind"
      ]
    },
    {
      "cell_type": "code",
      "execution_count": 30,
      "id": "0d5fd270",
      "metadata": {
        "id": "0d5fd270"
      },
      "outputs": [],
      "source": [
        "data5.loc[ind,\"Item_Weight\"]=np.nan"
      ]
    },
    {
      "cell_type": "code",
      "execution_count": null,
      "id": "31a6e158",
      "metadata": {
        "colab": {
          "base_uri": "https://localhost:8080/",
          "height": 491
        },
        "id": "31a6e158",
        "outputId": "d65f96ec-0fea-40cb-efe2-28c29cfac457"
      },
      "outputs": [],
      "source": [
        "data5.isnull().sum()"
      ]
    },
    {
      "cell_type": "code",
      "execution_count": null,
      "id": "fa371560",
      "metadata": {
        "colab": {
          "base_uri": "https://localhost:8080/"
        },
        "id": "fa371560",
        "outputId": "9f103077-af71-4468-926c-7621edca37b9"
      },
      "outputs": [],
      "source": [
        "748+714\n"
      ]
    },
    {
      "cell_type": "code",
      "execution_count": null,
      "id": "2eeca1e4",
      "metadata": {
        "colab": {
          "base_uri": "https://localhost:8080/",
          "height": 335
        },
        "id": "2eeca1e4",
        "outputId": "41cb7d33-6caa-4bae-f2c9-235fb31711a3"
      },
      "outputs": [],
      "source": [
        "data5[\"Item_Weight\"].describe()"
      ]
    },
    {
      "cell_type": "code",
      "execution_count": null,
      "id": "15fc7f99",
      "metadata": {
        "colab": {
          "base_uri": "https://localhost:8080/",
          "height": 447
        },
        "id": "15fc7f99",
        "outputId": "69d87ce7-52d0-4b74-93ad-edeee1cddc3a"
      },
      "outputs": [],
      "source": [
        "data5[\"Item_Weight\"].plot(kind=\"kde\")"
      ]
    },
    {
      "cell_type": "code",
      "execution_count": 35,
      "id": "fe42aeea",
      "metadata": {
        "id": "fe42aeea"
      },
      "outputs": [],
      "source": [
        "#data5[\"Item_Weight\"].fillna(data5[\"Item_Weight\"].mean(),inplace=True)"
      ]
    },
    {
      "cell_type": "code",
      "execution_count": null,
      "id": "7a2a82ed",
      "metadata": {
        "colab": {
          "base_uri": "https://localhost:8080/"
        },
        "id": "7a2a82ed",
        "outputId": "1bb76ac9-cb40-431e-e0b7-45494331fb6c"
      },
      "outputs": [],
      "source": [
        "data5[\"Item_Weight\"].isnull().sum()"
      ]
    },
    {
      "cell_type": "code",
      "execution_count": null,
      "id": "87b6564b",
      "metadata": {
        "colab": {
          "base_uri": "https://localhost:8080/",
          "height": 489
        },
        "id": "87b6564b",
        "outputId": "89e6b876-3f36-4bf0-97c6-1f58f1e58217"
      },
      "outputs": [],
      "source": [
        "data5.groupby(\"Item_Identifier\")[\"Item_Weight\"].mean()"
      ]
    },
    {
      "cell_type": "code",
      "execution_count": 38,
      "id": "369c46ac",
      "metadata": {
        "id": "369c46ac"
      },
      "outputs": [],
      "source": [
        "data5[\"Item_Weight\"]=data5[\"Item_Weight\"].fillna(data5.groupby(\"Item_Identifier\")[\"Item_Weight\"].transform('mean'))"
      ]
    },
    {
      "cell_type": "code",
      "execution_count": null,
      "id": "240b53c7",
      "metadata": {
        "colab": {
          "base_uri": "https://localhost:8080/",
          "height": 491
        },
        "id": "240b53c7",
        "outputId": "abab4442-55ef-44ae-ed87-2989245c2eff"
      },
      "outputs": [],
      "source": [
        "data5.isnull().sum()"
      ]
    },
    {
      "cell_type": "code",
      "execution_count": null,
      "id": "5876cbdd",
      "metadata": {
        "colab": {
          "base_uri": "https://localhost:8080/",
          "height": 447
        },
        "id": "5876cbdd",
        "outputId": "8825dffa-abd3-4c15-9fb5-10bd278d22f7"
      },
      "outputs": [],
      "source": [
        "data5[\"Item_Weight\"].plot(kind=\"kde\")"
      ]
    },
    {
      "cell_type": "code",
      "execution_count": null,
      "id": "04f8e759",
      "metadata": {
        "colab": {
          "base_uri": "https://localhost:8080/"
        },
        "id": "04f8e759",
        "outputId": "075a719c-32f0-4f18-d571-4a03e18d6641"
      },
      "outputs": [],
      "source": [
        "# categorical data\n",
        "\n",
        "data5[\"Outlet_Size\"].unique()"
      ]
    },
    {
      "cell_type": "code",
      "execution_count": null,
      "id": "28d8b84e",
      "metadata": {
        "colab": {
          "base_uri": "https://localhost:8080/"
        },
        "id": "28d8b84e",
        "outputId": "1f1712e6-d81b-4fd2-f9cd-924d8e90e143"
      },
      "outputs": [],
      "source": [
        "data5[\"Outlet_Size\"].nunique()"
      ]
    },
    {
      "cell_type": "code",
      "execution_count": null,
      "id": "72f87377",
      "metadata": {
        "colab": {
          "base_uri": "https://localhost:8080/",
          "height": 115
        },
        "id": "72f87377",
        "outputId": "e79da7bd-8543-40ac-cee2-e4dd551e10f9"
      },
      "outputs": [],
      "source": [
        "data5[\"Outlet_Size\"].mode()"
      ]
    },
    {
      "cell_type": "code",
      "execution_count": 44,
      "id": "d7c75824",
      "metadata": {
        "id": "d7c75824"
      },
      "outputs": [],
      "source": [
        "data5[\"Outlet_Size\"]=data5[\"Outlet_Size\"].fillna(data5[\"Outlet_Size\"].mode()[0])"
      ]
    },
    {
      "cell_type": "code",
      "execution_count": null,
      "id": "dff21364",
      "metadata": {
        "colab": {
          "base_uri": "https://localhost:8080/",
          "height": 491
        },
        "id": "dff21364",
        "outputId": "e1e2cacc-782b-4ef4-e031-11d832d946f2"
      },
      "outputs": [],
      "source": [
        "data5.isnull().sum()"
      ]
    },
    {
      "cell_type": "code",
      "execution_count": 46,
      "id": "2564a614",
      "metadata": {
        "id": "2564a614"
      },
      "outputs": [],
      "source": [
        "# Outlier Treatment\n",
        "\n",
        "data_num=data.select_dtypes(include=np.number)\n",
        "\n",
        "data_cat=data.select_dtypes(exclude=np.number)\n"
      ]
    },
    {
      "cell_type": "code",
      "execution_count": null,
      "id": "152c6150",
      "metadata": {
        "colab": {
          "base_uri": "https://localhost:8080/"
        },
        "id": "152c6150",
        "outputId": "4fad2143-47c2-4b07-8b4d-b0a94f2aaadc"
      },
      "outputs": [],
      "source": [
        "data_num.columns"
      ]
    },
    {
      "cell_type": "code",
      "execution_count": null,
      "id": "d85673c2",
      "metadata": {
        "colab": {
          "base_uri": "https://localhost:8080/"
        },
        "id": "d85673c2",
        "outputId": "b94a3b23-49f9-4409-fa91-65e64f54fd0d"
      },
      "outputs": [],
      "source": [
        "data_cat.columns"
      ]
    },
    {
      "cell_type": "code",
      "execution_count": null,
      "id": "b54c3e7a",
      "metadata": {
        "colab": {
          "base_uri": "https://localhost:8080/",
          "height": 1000
        },
        "id": "b54c3e7a",
        "outputId": "ac0e8839-3ad4-4f0b-c3c1-cc475fff2347",
        "scrolled": false
      },
      "outputs": [],
      "source": [
        "for i in data_num.columns:\n",
        "    sns.boxplot(data_num[i])\n",
        "    plt.show()"
      ]
    },
    {
      "cell_type": "code",
      "execution_count": null,
      "id": "2caa25fe",
      "metadata": {
        "colab": {
          "base_uri": "https://localhost:8080/"
        },
        "id": "2caa25fe",
        "outputId": "e6766714-ed8c-4a19-9d6d-77d6b3156760"
      },
      "outputs": [],
      "source": [
        "# outlier for item outlet sale\n",
        "q1=data_num[\"Item_Outlet_Sales\"].quantile(0.25)\n",
        "\n",
        "q3=data_num[\"Item_Outlet_Sales\"].quantile(0.75)\n",
        "\n",
        "iqr=q3-q1\n",
        "\n",
        "UB= q3+ 1.5*iqr\n",
        "\n",
        "LB=q1- 1.5*iqr\n",
        "\n",
        "print(LB,UB)\n"
      ]
    },
    {
      "cell_type": "code",
      "execution_count": 51,
      "id": "358a1298",
      "metadata": {
        "id": "358a1298"
      },
      "outputs": [],
      "source": [
        "lowerindex=data_num[data_num[\"Item_Outlet_Sales\"]<LB]\n",
        "upperindex=data_num[data_num[\"Item_Outlet_Sales\"]>UB]"
      ]
    },
    {
      "cell_type": "code",
      "execution_count": null,
      "id": "6a6c3d23",
      "metadata": {
        "colab": {
          "base_uri": "https://localhost:8080/",
          "height": 423
        },
        "id": "6a6c3d23",
        "outputId": "2b69af80-e6cf-46be-9093-0627c964c920"
      },
      "outputs": [],
      "source": [
        "upperindex"
      ]
    },
    {
      "cell_type": "code",
      "execution_count": 53,
      "id": "ae629d6e",
      "metadata": {
        "id": "ae629d6e"
      },
      "outputs": [],
      "source": [
        "data_num[\"Item_Outlet_Sales\"]=np.where(data_num[\"Item_Outlet_Sales\"]<LB,LB,data_num[\"Item_Outlet_Sales\"])\n",
        "data_num[\"Item_Outlet_Sales\"]=np.where(data_num[\"Item_Outlet_Sales\"]>UB,UB,data_num[\"Item_Outlet_Sales\"])\n"
      ]
    },
    {
      "cell_type": "code",
      "execution_count": null,
      "id": "fec31e6e",
      "metadata": {
        "colab": {
          "base_uri": "https://localhost:8080/",
          "height": 428
        },
        "id": "fec31e6e",
        "outputId": "c8173882-999c-4fff-f516-7a3c820a4a22"
      },
      "outputs": [],
      "source": [
        "sns.boxplot(data_num[\"Item_Outlet_Sales\"])"
      ]
    },
    {
      "cell_type": "code",
      "execution_count": 55,
      "id": "38f53024",
      "metadata": {
        "id": "38f53024"
      },
      "outputs": [],
      "source": [
        "# Apply for all columns\n",
        "\n",
        "for i in data_num.columns:\n",
        "    q1=data_num[i].quantile(0.25)\n",
        "\n",
        "    q3=data_num[i].quantile(0.75)\n",
        "\n",
        "    iqr=q3-q1\n",
        "\n",
        "    UB= q3+ 1.5*iqr\n",
        "\n",
        "    LB=q1- 1.5*iqr\n",
        "    data_num[i]=np.where(data_num[i]<LB,LB,data_num[i])\n",
        "    data_num[i]=np.where(data_num[i]>UB,UB,data_num[i])\n",
        "\n"
      ]
    },
    {
      "cell_type": "code",
      "execution_count": null,
      "id": "874f03e3",
      "metadata": {
        "colab": {
          "base_uri": "https://localhost:8080/",
          "height": 1000
        },
        "id": "874f03e3",
        "outputId": "14b63158-20a1-4d3a-8d25-0eb546bf8619"
      },
      "outputs": [],
      "source": [
        "for i in data_num.columns:\n",
        "    sns.boxplot(data_num[i])\n",
        "    plt.show()"
      ]
    },
    {
      "cell_type": "markdown",
      "id": "2e2898a6",
      "metadata": {
        "id": "2e2898a6"
      },
      "source": [
        "# Scaling/Normalization"
      ]
    },
    {
      "cell_type": "code",
      "execution_count": null,
      "id": "7426b1e2",
      "metadata": {
        "colab": {
          "base_uri": "https://localhost:8080/",
          "height": 206
        },
        "id": "7426b1e2",
        "outputId": "937121e8-3ee8-4a3a-f857-0b87a9b2ee04"
      },
      "outputs": [],
      "source": [
        "data_num=data.select_dtypes(include=np.number)\n",
        "data_num.head(5)"
      ]
    },
    {
      "cell_type": "code",
      "execution_count": 58,
      "id": "b1f9b663",
      "metadata": {
        "id": "b1f9b663"
      },
      "outputs": [],
      "source": [
        "from sklearn.preprocessing import StandardScaler\n",
        "sc=StandardScaler()\n",
        "datanum_sc=sc.fit_transform(data_num)"
      ]
    },
    {
      "cell_type": "code",
      "execution_count": null,
      "id": "e8b3faa8",
      "metadata": {
        "colab": {
          "base_uri": "https://localhost:8080/"
        },
        "id": "e8b3faa8",
        "outputId": "2c3cc3eb-1def-4383-9588-463877b6f78a"
      },
      "outputs": [],
      "source": [
        "datanum_sc"
      ]
    },
    {
      "cell_type": "code",
      "execution_count": 60,
      "id": "cea539d3",
      "metadata": {
        "id": "cea539d3"
      },
      "outputs": [],
      "source": [
        "datanum_sc=pd.DataFrame(datanum_sc)\n",
        "\n",
        "datanum_sc.head()\n",
        "\n",
        "datanum_sc.columns=data_num.columns"
      ]
    },
    {
      "cell_type": "code",
      "execution_count": null,
      "id": "311a416d",
      "metadata": {
        "colab": {
          "base_uri": "https://localhost:8080/",
          "height": 206
        },
        "id": "311a416d",
        "outputId": "8f317a05-2fa3-4321-8340-c27ff93bcfc2"
      },
      "outputs": [],
      "source": [
        "datanum_sc.head()"
      ]
    },
    {
      "cell_type": "code",
      "execution_count": null,
      "id": "4dea0c88",
      "metadata": {
        "colab": {
          "base_uri": "https://localhost:8080/",
          "height": 300
        },
        "id": "4dea0c88",
        "outputId": "fd3d3f07-04fe-4694-8323-33b3ab4cd30a"
      },
      "outputs": [],
      "source": [
        "datanum_sc.describe()\n"
      ]
    },
    {
      "cell_type": "code",
      "execution_count": 63,
      "id": "92bb55e8",
      "metadata": {
        "id": "92bb55e8"
      },
      "outputs": [],
      "source": [
        "# min max scalar\n",
        "from sklearn.preprocessing import MinMaxScaler\n",
        "mm=MinMaxScaler()\n",
        "mm_scale=mm.fit_transform(data_num)"
      ]
    },
    {
      "cell_type": "code",
      "execution_count": null,
      "id": "3ab045dc",
      "metadata": {
        "colab": {
          "base_uri": "https://localhost:8080/",
          "height": 423
        },
        "id": "3ab045dc",
        "outputId": "6d1e8b51-4cda-4eee-9830-b419a411594f"
      },
      "outputs": [],
      "source": [
        "mm_scale=pd.DataFrame(mm_scale)\n",
        "\n",
        "mm_scale.columns=data_num.columns\n",
        "\n",
        "mm_scale"
      ]
    },
    {
      "cell_type": "code",
      "execution_count": null,
      "id": "eb490363",
      "metadata": {
        "colab": {
          "base_uri": "https://localhost:8080/",
          "height": 300
        },
        "id": "eb490363",
        "outputId": "d6db3754-98f1-4daf-baa1-7133895ace59"
      },
      "outputs": [],
      "source": [
        "mm_scale.describe()"
      ]
    },
    {
      "cell_type": "code",
      "execution_count": null,
      "id": "9ec26077",
      "metadata": {
        "colab": {
          "base_uri": "https://localhost:8080/",
          "height": 272
        },
        "id": "9ec26077",
        "outputId": "955aa8fc-25c4-4c23-d37a-c8048289ab7a"
      },
      "outputs": [],
      "source": [
        "data_num.skew()# original data"
      ]
    },
    {
      "cell_type": "code",
      "execution_count": null,
      "id": "ed4980ea",
      "metadata": {
        "colab": {
          "base_uri": "https://localhost:8080/",
          "height": 272
        },
        "id": "ed4980ea",
        "outputId": "043c7051-1f7f-4869-cdf3-d463687134f4"
      },
      "outputs": [],
      "source": [
        "mm_scale.skew()"
      ]
    },
    {
      "cell_type": "code",
      "execution_count": null,
      "id": "4238415f",
      "metadata": {
        "colab": {
          "base_uri": "https://localhost:8080/",
          "height": 272
        },
        "id": "4238415f",
        "outputId": "17b20dac-1e06-4155-8ecf-390b050dcc7e"
      },
      "outputs": [],
      "source": [
        "datanum_sc.skew()"
      ]
    },
    {
      "cell_type": "markdown",
      "id": "dc5f757d",
      "metadata": {
        "id": "dc5f757d"
      },
      "source": [
        "# Encoding Technique"
      ]
    },
    {
      "cell_type": "code",
      "execution_count": 69,
      "id": "1e5cbc42",
      "metadata": {
        "id": "1e5cbc42"
      },
      "outputs": [],
      "source": [
        "\n",
        "# label encoder\n",
        "data5=data.copy()"
      ]
    },
    {
      "cell_type": "code",
      "execution_count": null,
      "id": "be1e6e93",
      "metadata": {
        "colab": {
          "base_uri": "https://localhost:8080/",
          "height": 313
        },
        "id": "be1e6e93",
        "outputId": "b0ef9aaf-7fa3-4512-a968-031c009dda76"
      },
      "outputs": [],
      "source": [
        "data5.head()\n"
      ]
    },
    {
      "cell_type": "code",
      "execution_count": 71,
      "id": "df03d093",
      "metadata": {
        "id": "df03d093"
      },
      "outputs": [],
      "source": [
        "data5.dropna(inplace=True)"
      ]
    },
    {
      "cell_type": "code",
      "execution_count": null,
      "id": "015837fb",
      "metadata": {
        "colab": {
          "base_uri": "https://localhost:8080/"
        },
        "id": "015837fb",
        "outputId": "f653f33f-34c8-4c53-8b8b-e4a44c2ea852"
      },
      "outputs": [],
      "source": [
        "data5[\"Outlet_Size\"].nunique()"
      ]
    },
    {
      "cell_type": "code",
      "execution_count": null,
      "id": "c533ad6f",
      "metadata": {
        "colab": {
          "base_uri": "https://localhost:8080/"
        },
        "id": "c533ad6f",
        "outputId": "ae8b4764-522a-42ca-beb8-10954f2e664c"
      },
      "outputs": [],
      "source": [
        "data5[\"Outlet_Size\"].unique()"
      ]
    },
    {
      "cell_type": "code",
      "execution_count": 74,
      "id": "f3c2a90c",
      "metadata": {
        "id": "f3c2a90c"
      },
      "outputs": [],
      "source": [
        "# Label encoder\n",
        "\n",
        "from sklearn.preprocessing import LabelEncoder\n",
        "\n",
        "le=LabelEncoder()\n",
        "\n",
        "data5[\"outletsize_le\"]=le.fit_transform(data5[\"Outlet_Size\"])"
      ]
    },
    {
      "cell_type": "code",
      "execution_count": null,
      "id": "16571709",
      "metadata": {
        "colab": {
          "base_uri": "https://localhost:8080/",
          "height": 423
        },
        "id": "16571709",
        "outputId": "80daa0f4-1ea8-4ba1-b084-1058f00e37a3"
      },
      "outputs": [],
      "source": [
        "data5[[\"Outlet_Size\",\"outletsize_le\"]]"
      ]
    },
    {
      "cell_type": "code",
      "execution_count": 76,
      "id": "406247d3",
      "metadata": {
        "id": "406247d3"
      },
      "outputs": [],
      "source": [
        "#Ordinal encoder\n",
        "\n",
        "from sklearn.preprocessing import OrdinalEncoder\n",
        "\n",
        "ode=OrdinalEncoder(categories=[['Small','Medium','High']])\n",
        "\n",
        "data5['Outlet_Size_ode']=ode.fit_transform(data5[['Outlet_Size']])"
      ]
    },
    {
      "cell_type": "code",
      "execution_count": null,
      "id": "8ce81677",
      "metadata": {
        "colab": {
          "base_uri": "https://localhost:8080/",
          "height": 423
        },
        "id": "8ce81677",
        "outputId": "87d6cc94-c10c-4e7d-ddb5-6ca01b1587d4"
      },
      "outputs": [],
      "source": [
        "data5[[\"Outlet_Size\",\"outletsize_le\",\"Outlet_Size_ode\"]]"
      ]
    },
    {
      "cell_type": "code",
      "execution_count": null,
      "id": "f6e29412",
      "metadata": {
        "colab": {
          "base_uri": "https://localhost:8080/",
          "height": 423
        },
        "id": "f6e29412",
        "outputId": "9aa10e9d-7490-4694-91eb-f03e21c141a3"
      },
      "outputs": [],
      "source": [
        "# one hot encoding\n",
        "\n",
        "z=pd.get_dummies(data5[\"Outlet_Size\"])\n",
        "z"
      ]
    },
    {
      "cell_type": "code",
      "execution_count": null,
      "id": "e72bda53",
      "metadata": {
        "colab": {
          "base_uri": "https://localhost:8080/",
          "height": 423
        },
        "id": "e72bda53",
        "outputId": "7a5c3832-4f40-40c6-f28a-73c2bf94f625"
      },
      "outputs": [],
      "source": [
        "z1=pd.get_dummies(data5[\"Outlet_Size\"],drop_first=True)\n",
        "z1"
      ]
    },
    {
      "cell_type": "code",
      "execution_count": 79,
      "id": "959b2b9e",
      "metadata": {
        "id": "959b2b9e"
      },
      "outputs": [],
      "source": []
    }
  ],
  "metadata": {
    "colab": {
      "provenance": []
    },
    "kernelspec": {
      "display_name": "Python 3",
      "language": "python",
      "name": "python3"
    },
    "language_info": {
      "codemirror_mode": {
        "name": "ipython",
        "version": 3
      },
      "file_extension": ".py",
      "mimetype": "text/x-python",
      "name": "python",
      "nbconvert_exporter": "python",
      "pygments_lexer": "ipython3",
      "version": "3.7.0"
    }
  },
  "nbformat": 4,
  "nbformat_minor": 5
}
